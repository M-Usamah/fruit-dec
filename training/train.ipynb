{
 "cells": [
  {
   "cell_type": "code",
   "execution_count": 15,
   "metadata": {},
   "outputs": [],
   "source": [
    "from torch.nn import  Sequential, Conv2d, ReLU, AvgPool2d\n",
    "from torchvision.datasets import ImageFolder\n",
    "from torch.nn import functional as fun\n",
    "from torchvision import transforms\n",
    "import matplotlib.pyplot as plt\n",
    "import torch.optim as optim\n",
    "from torch import cuda\n",
    "from torch import nn\n",
    "import torchvision\n",
    "import matplotlib\n",
    "import torch\n",
    "import os"
   ]
  },
  {
   "cell_type": "code",
   "execution_count": null,
   "metadata": {},
   "outputs": [],
   "source": [
    "devices = torch.device('cuda' if cuda.is_available() else 'cpu')\n",
    "print(devices)"
   ]
  },
  {
   "cell_type": "code",
   "execution_count": 10,
   "metadata": {},
   "outputs": [
    {
     "name": "stdout",
     "output_type": "stream",
     "text": [
      "['Validation', 'Training', 'Test']\n",
      "first 10 classes\n",
      "['cucumber_1', 'cabbage_white_1', 'apple_golden_3', 'apple_rotten_1', 'apple_red_1', 'apple_hit_1', 'apple_red_3', 'apple_red_yellow_1', 'apple_6', 'apple_braeburn_1', 'cucumber_3', 'zucchini_dark_1', 'carrot_1', 'pear_1', 'apple_red_2', 'eggplant_violet_1', 'pear_3', 'apple_red_delicios_1', 'apple_pink_lady_1', 'apple_golden_2', 'apple_golden_1', 'zucchini_1', 'apple_crimson_snow_1', 'apple_granny_smith_1']\n"
     ]
    }
   ],
   "source": [
    "data_dir = './Data/'\n",
    "\n",
    "\n",
    "print(os.listdir(data_dir)) #folders in the dataset folder\n",
    "classes = os.listdir(data_dir + \"/Training\")\n",
    "classes = os.listdir(data_dir+'/Training') \n",
    "print ('first 10 classes')\n",
    "print(classes)"
   ]
  },
  {
   "cell_type": "code",
   "execution_count": 21,
   "metadata": {},
   "outputs": [],
   "source": [
    "size = (100,100)\n",
    "trans = transforms.Compose(\n",
    "    [\n",
    "        transforms.Resize(size=size),\n",
    "        # transforms.CenterCrop(50),\n",
    "        transforms.ColorJitter(brightness=.5,contrast=.4,hue=.6),\n",
    "        transforms.RandomEqualize(),\n",
    "        transforms.ToTensor(),\n",
    "        transforms.Normalize((0.485, 0.456, 0.406), (0.229, 0.224, 0.225))\n",
    "    ]\n",
    ")"
   ]
  },
  {
   "cell_type": "code",
   "execution_count": 22,
   "metadata": {},
   "outputs": [],
   "source": [
    "TraimData = ImageFolder(data_dir+\"/Training\", transform=trans)"
   ]
  },
  {
   "cell_type": "code",
   "execution_count": 23,
   "metadata": {},
   "outputs": [
    {
     "name": "stdout",
     "output_type": "stream",
     "text": [
      "torch.Size([3, 100, 100]) 0\n"
     ]
    },
    {
     "data": {
      "text/plain": [
       "(tensor([[[2.1804, 2.1804, 2.1804,  ..., 2.1804, 2.1804, 2.1804],\n",
       "          [2.1804, 2.1804, 2.1804,  ..., 2.1804, 2.1804, 2.1804],\n",
       "          [2.1804, 2.1804, 2.1804,  ..., 2.1804, 2.1804, 2.1804],\n",
       "          ...,\n",
       "          [2.1804, 2.1804, 2.1804,  ..., 2.1804, 2.1804, 2.1804],\n",
       "          [2.1804, 2.1804, 2.1804,  ..., 2.1804, 2.1804, 2.1804],\n",
       "          [2.1804, 2.1804, 2.1804,  ..., 2.1804, 2.1804, 2.1804]],\n",
       " \n",
       "         [[2.3585, 2.3585, 2.3585,  ..., 2.3585, 2.3585, 2.3585],\n",
       "          [2.3585, 2.3585, 2.3585,  ..., 2.3585, 2.3585, 2.3585],\n",
       "          [2.3585, 2.3585, 2.3585,  ..., 2.3585, 2.3585, 2.3585],\n",
       "          ...,\n",
       "          [2.3585, 2.3585, 2.3585,  ..., 2.3585, 2.3585, 2.3585],\n",
       "          [2.3585, 2.3585, 2.3585,  ..., 2.3585, 2.3585, 2.3585],\n",
       "          [2.3585, 2.3585, 2.3585,  ..., 2.3585, 2.3585, 2.3585]],\n",
       " \n",
       "         [[2.5703, 2.5703, 2.5703,  ..., 2.5703, 2.5703, 2.5703],\n",
       "          [2.5703, 2.5703, 2.5703,  ..., 2.5703, 2.5703, 2.5703],\n",
       "          [2.5703, 2.5703, 2.5703,  ..., 2.5703, 2.5703, 2.5703],\n",
       "          ...,\n",
       "          [2.5703, 2.5703, 2.5703,  ..., 2.5703, 2.5703, 2.5703],\n",
       "          [2.5703, 2.5703, 2.5703,  ..., 2.5703, 2.5703, 2.5703],\n",
       "          [2.5703, 2.5703, 2.5703,  ..., 2.5703, 2.5703, 2.5703]]]),\n",
       " 'apple_6')"
      ]
     },
     "execution_count": 23,
     "metadata": {},
     "output_type": "execute_result"
    }
   ],
   "source": [
    "img, label = TraimData[0]\n",
    "print(img.shape, label)\n",
    "img,TraimData.classes[label]"
   ]
  },
  {
   "cell_type": "code",
   "execution_count": 24,
   "metadata": {},
   "outputs": [],
   "source": [
    "def show_example(img, label):\n",
    "    print('Label: ', TraimData.classes[label], \"(\"+str(label)+\")\")\n",
    "    plt.imshow(img.permute(1, 2, 0))"
   ]
  },
  {
   "cell_type": "code",
   "execution_count": 31,
   "metadata": {},
   "outputs": [
    {
     "name": "stderr",
     "output_type": "stream",
     "text": [
      "Clipping input data to the valid range for imshow with RGB data ([0..1] for floats or [0..255] for integers).\n"
     ]
    },
    {
     "name": "stdout",
     "output_type": "stream",
     "text": [
      "Label:  apple_6 (0)\n"
     ]
    },
    {
     "data": {
      "image/png": "[encoded data removed]",
      "text/plain": [
       "<Figure size 432x288 with 1 Axes>"
      ]
     },
     "metadata": {
      "needs_background": "light"
     },
     "output_type": "display_data"
    }
   ],
   "source": [
    "show_example(*TraimData[50])"
   ]
  },
  {
   "cell_type": "code",
   "execution_count": null,
   "metadata": {},
   "outputs": [],
   "source": [
    "trainData = torchvision.datasets.ImageFolder(root=trainPath,transform=trans)\n",
    "testData = torchvision.datasets.ImageFolder(root=testPath,transform=trans)\n",
    "varData = torchvision.datasets.ImageFolder(root=varPath,transform=trans)"
   ]
  },
  {
   "cell_type": "code",
   "execution_count": null,
   "metadata": {},
   "outputs": [],
   "source": [
    "from torch.utils import data\n",
    "\n",
    "batch_size = 60\n",
    "train_data_loader = data.DataLoader(trainData,batch_size=batch_size)\n",
    "val_data_loader = data.DataLoader(varData,batch_size=batch_size)\n",
    "test_data_loader = data.DataLoader(testData,batch_size=batch_size)"
   ]
  },
  {
   "cell_type": "code",
   "execution_count": null,
   "metadata": {},
   "outputs": [],
   "source": [
    "class fruitModel(nn.Module):\n",
    "    def __init__(self, num_classes=155):\n",
    "        super(fruitModel, self).__init__()\n",
    "        self.features=nn.Sequential(nn.Conv2d(3,64,kernel_size=11,stride=2,padding=2),\n",
    "                                   nn.ReLU(),\n",
    "                                   nn.MaxPool2d(kernel_size=3,stride=2),\n",
    "                                    \n",
    "                                   nn.Conv2d(64,192,kernel_size=5,padding=2),\n",
    "                                   nn.ReLU(),\n",
    "                                   nn.MaxPool2d(kernel_size=3,stride=2),\n",
    "                                    \n",
    "                                   nn.Conv2d(192,384,kernel_size=3,padding=1),\n",
    "                                   nn.ReLU(),\n",
    "                                   nn.Conv2d(384,256,kernel_size=3,padding=1),\n",
    "                                   nn.ReLU(),\n",
    "                                   nn.Conv2d(256,256,kernel_size=3,padding=1),\n",
    "                                   nn.ReLU(),\n",
    "                                   nn.MaxPool2d(kernel_size=3, stride=2),\n",
    "                                   )\n",
    "        self.avgpool = nn.AdaptiveAvgPool2d((6,6))\n",
    "        self.classifier = nn.Sequential(nn.Dropout(),\n",
    "                                       nn.Linear(256*6*6,4096),\n",
    "                                       nn.ReLU(),\n",
    "                                       nn.Dropout(),\n",
    "                                       nn.Linear(4096,4096),\n",
    "                                       nn.ReLU(),\n",
    "                                       nn.Linear(4096, num_classes))\n",
    "    def forward(self,x):\n",
    "        x = self.features(x)\n",
    "        x = self.avgpool(x)\n",
    "        x = torch.flatten(x,1)\n",
    "        x = self.classifier(x)\n",
    "        return x"
   ]
  },
  {
   "cell_type": "code",
   "execution_count": null,
   "metadata": {},
   "outputs": [],
   "source": [
    "cnet = fruitModel()\n",
    "cnet.to(devices)\n",
    "optimizer = optim.Adam(cnet.parameters(),lr=0.001)"
   ]
  },
  {
   "cell_type": "code",
   "execution_count": null,
   "metadata": {},
   "outputs": [],
   "source": [
    "def train(model, optimizer, loss_fn, train_loader, val_loader, epochs=20,device=\"cpu\"):\n",
    "    for epoch in range(epochs):\n",
    "        training_loss = 0.0\n",
    "        valid_loss = 0.0\n",
    "        model.train()\n",
    "        for batch in train_loader:\n",
    "            optimizer.zero_grad()\n",
    "            inputs, targets = batch\n",
    "            inputs = inputs.to(device)\n",
    "            targets = targets.to(device)\n",
    "            output = model(inputs)\n",
    "            loss = loss_fn(output, targets)\n",
    "            loss.backward()\n",
    "            optimizer.step()\n",
    "            training_loss += loss.data.item() * inputs.size(0)\n",
    "        training_loss /= len(train_loader.dataset)\n",
    "        \n",
    "        model.eval()\n",
    "        num_correct = 0\n",
    "        num_examples = 0\n",
    "        for batch in val_loader:\n",
    "            inputs, targets = batch\n",
    "            inputs = inputs.to(device)\n",
    "            output = model(inputs)\n",
    "            targets = targets.to(device)\n",
    "            loss = loss_fn(output, targets)\n",
    "            valid_loss += loss.data.item() * inputs.size(0)\n",
    "            correct = torch.eq(torch.max(F.softmax(output),dim=1)[1],targets).view(-1)\n",
    "            num_correct += torch.sum(correct).item()\n",
    "            num_examples += correct.shape[0]\n",
    "        valid_loss /= len(val_loader.dataset)\n",
    "        if epoch == 0:\n",
    "            print(device)\n",
    "        print('Epoch: {},Training Loss: {:.2f}, Validation Loss: {:.2f}, accuray = {:.2f}'.format(epoch + 1 , training_loss, valid_loss, num_correct / num_examples))"
   ]
  },
  {
   "cell_type": "code",
   "execution_count": null,
   "metadata": {},
   "outputs": [],
   "source": [
    "train(cnet,optimizer,torch.nn.CrossEntropyLoss(),train_data_loader,val_data_loader,device=devices)"
   ]
  }
 ],
 "metadata": {
  "kernelspec": {
   "display_name": "Python 3.10.4 ('fruit-dec')",
   "language": "python",
   "name": "python3"
  },
  "language_info": {
   "codemirror_mode": {
    "name": "ipython",
    "version": 3
   },
   "file_extension": ".py",
   "mimetype": "text/x-python",
   "name": "python",
   "nbconvert_exporter": "python",
   "pygments_lexer": "ipython3",
   "version": "3.10.4"
  },
  "orig_nbformat": 4,
  "vscode": {
   "interpreter": {
    "hash": "2137fd30abdc6bffa88b4ec5739ad2252430d8b35f9314085b8d1595d6e89ec5"
   }
  }
 },
 "nbformat": 4,
 "nbformat_minor": 2
}
